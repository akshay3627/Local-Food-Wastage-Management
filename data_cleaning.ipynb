{
 "cells": [
  {
   "cell_type": "code",
   "execution_count": 22,
   "id": "40de320d",
   "metadata": {},
   "outputs": [],
   "source": [
    "import pandas as pd \n",
    "from pathlib import Path"
   ]
  },
  {
   "cell_type": "code",
   "execution_count": 30,
   "id": "fdc57e41",
   "metadata": {},
   "outputs": [],
   "source": [
    "# Paths (relative to notebooks)\n",
    "RAW_DATA_DIR = Path(\"D:\\\\local_food_wastage\\\\data\")\n",
    "CLEAN_DATA_DIR = Path(\"D:\\\\local_food_wastage\\\\data\")"
   ]
  },
  {
   "cell_type": "code",
   "execution_count": 31,
   "id": "aca56faf",
   "metadata": {},
   "outputs": [
    {
     "name": "stdout",
     "output_type": "stream",
     "text": [
      "Original Data Shapes\n",
      "Providers: (1000, 6)\n",
      "Receivers: (1000, 5)\n",
      "Food Listings: (1000, 9)\n",
      "Claims: (1000, 5)\n"
     ]
    }
   ],
   "source": [
    "#load raw datasets\n",
    "providers = pd.read_csv(RAW_DATA_DIR / \"D:\\\\local_food_wastage\\\\data\\\\providers_data.csv\")\n",
    "receivers = pd.read_csv(RAW_DATA_DIR / \"D:\\\\local_food_wastage\\\\data\\\\receivers_data.csv\" )\n",
    "food_listings = pd.read_csv(RAW_DATA_DIR / \"D:\\\\local_food_wastage\\\\data\\\\food_listings_data.csv\")\n",
    "claims = pd.read_csv(RAW_DATA_DIR / \"D:\\\\local_food_wastage\\\\data\\\\claims_data.csv\")\n",
    "\n",
    "print(\"Original Data Shapes\")\n",
    "print(\"Providers:\", providers.shape)\n",
    "print(\"Receivers:\", receivers.shape)\n",
    "print(\"Food Listings:\", food_listings.shape)\n",
    "print(\"Claims:\", claims.shape)"
   ]
  },
  {
   "cell_type": "code",
   "execution_count": 32,
   "id": "d5fe1402",
   "metadata": {},
   "outputs": [
    {
     "name": "stderr",
     "output_type": "stream",
     "text": [
      "C:\\Users\\Admin\\AppData\\Local\\Temp\\ipykernel_16988\\3073500889.py:11: FutureWarning: DataFrame.applymap has been deprecated. Use DataFrame.map instead.\n",
      "  providers = providers.applymap(lambda x: x.strip() if isinstance(x, str) else x)\n"
     ]
    },
    {
     "data": {
      "text/plain": [
       "(   Provider_ID                         Name           Type  \\\n",
       " 0            1             Gonzales-Cochran    Supermarket   \n",
       " 1            2  Nielsen, Johnson and Fuller  Grocery Store   \n",
       " 2            3                 Miller-Black    Supermarket   \n",
       " 3            4   Clark, Prince and Williams  Grocery Store   \n",
       " 4            5               Coleman-Farley  Grocery Store   \n",
       " \n",
       "                                              Address            City  \\\n",
       " 0  74347 Christopher Extensions\\nAndreamouth, OK ...     New Jessica   \n",
       " 1           91228 Hanson Stream\\nWelchtown, OR 27136     East Sheena   \n",
       " 2  561 Martinez Point Suite 507\\nGuzmanchester, W...  Lake Jesusview   \n",
       " 3     467 Bell Trail Suite 409\\nPort Jesus, IA 61188     Mendezmouth   \n",
       " 4  078 Matthew Creek Apt. 319\\nSaraborough, MA 53978   Valentineside   \n",
       " \n",
       "                 Contact  \n",
       " 0       +1-600-220-0480  \n",
       " 1  +1-925-283-8901x6297  \n",
       " 2      001-517-295-2206  \n",
       " 3      556.944.8935x401  \n",
       " 4          193.714.6577  ,\n",
       " Provider_ID     int64\n",
       " Name           object\n",
       " Type           object\n",
       " Address        object\n",
       " City           object\n",
       " Contact        object\n",
       " dtype: object)"
      ]
     },
     "execution_count": 32,
     "metadata": {},
     "output_type": "execute_result"
    }
   ],
   "source": [
    "#clean Providers\n",
    "# Remove duplicates by Provider_ID (if column exists)\n",
    "if \"Provider_ID\" in providers.columns:\n",
    "    providers = providers.drop_duplicates(subset=\"Provider_ID\")\n",
    "    \n",
    "#Fill missing Contact\n",
    "if\"Contact\" in providers.columns:\n",
    "    providers[\"Contact\"] = providers[\"Contact\"].fillna(\"Not Provided\")\n",
    "\n",
    "# Strip extra spaces from string columns\n",
    "providers = providers.applymap(lambda x: x.strip() if isinstance(x, str) else x)\n",
    "\n",
    "providers.head(), providers.dtypes"
   ]
  },
  {
   "cell_type": "code",
   "execution_count": 26,
   "id": "038a8725",
   "metadata": {},
   "outputs": [
    {
     "name": "stderr",
     "output_type": "stream",
     "text": [
      "C:\\Users\\Admin\\AppData\\Local\\Temp\\ipykernel_16988\\2435267176.py:8: FutureWarning: DataFrame.applymap has been deprecated. Use DataFrame.map instead.\n",
      "  receivers = receivers.applymap(lambda x: x.strip() if isinstance(x, str) else x)\n"
     ]
    },
    {
     "data": {
      "text/plain": [
       "(   Receiver_ID          Name        Type               City           Contact\n",
       " 0            1  Donald Gomez     Shelter     Port Carlburgh     (955)922-5295\n",
       " 1            2  Laurie Ramos  Individual         Lewisburgh      761.042.1570\n",
       " 2            3  Ashley Mckee         NGO  South Randalltown  691-023-0094x856\n",
       " 3            4    Erika Rose         NGO   South Shaneville        8296491111\n",
       " 4            5   John Romero  Individual          Bakerport      067.491.0154,\n",
       " Receiver_ID     int64\n",
       " Name           object\n",
       " Type           object\n",
       " City           object\n",
       " Contact        object\n",
       " dtype: object)"
      ]
     },
     "execution_count": 26,
     "metadata": {},
     "output_type": "execute_result"
    }
   ],
   "source": [
    "#clean Receivers\n",
    "if \"Receiver_ID\" in receivers.columns:\n",
    "    receivers = receivers.drop_duplicates(subset=\"Receiver_ID\")\n",
    "\n",
    "if \"Contact\" in receivers.columns:\n",
    "    receivers[\"Contact\"] = receivers[\"Contact\"].fillna(\"Not Provided\")\n",
    "\n",
    "receivers = receivers.applymap(lambda x: x.strip() if isinstance(x, str) else x)\n",
    "\n",
    "receivers.head(), receivers.dtypes"
   ]
  },
  {
   "cell_type": "code",
   "execution_count": 33,
   "id": "c25015ed",
   "metadata": {},
   "outputs": [
    {
     "name": "stderr",
     "output_type": "stream",
     "text": [
      "C:\\Users\\Admin\\AppData\\Local\\Temp\\ipykernel_16988\\3674847006.py:18: FutureWarning: DataFrame.applymap has been deprecated. Use DataFrame.map instead.\n",
      "  food_listings = food_listings.applymap(lambda x: x.strip() if isinstance(x, str) else x)\n"
     ]
    },
    {
     "data": {
      "text/plain": [
       "(   Food_ID Food_Name  Quantity Expiry_Date  Provider_ID     Provider_Type  \\\n",
       " 0        1     Bread        43  2025-03-17          110     Grocery Store   \n",
       " 1        2      Soup        22  2025-03-24          791     Grocery Store   \n",
       " 2        3    Fruits        46  2025-03-28          478  Catering Service   \n",
       " 3        4    Fruits        15  2025-03-16          930        Restaurant   \n",
       " 4        5      Soup        14  2025-03-19          279        Restaurant   \n",
       " \n",
       "            Location       Food_Type  Meal_Type  \n",
       " 0  South Kellyville  Non-Vegetarian  Breakfast  \n",
       " 1        West James  Non-Vegetarian     Dinner  \n",
       " 2       Lake Regina           Vegan  Breakfast  \n",
       " 3         Kellytown           Vegan      Lunch  \n",
       " 4        Garciaport           Vegan     Dinner  ,\n",
       " Food_ID                   int64\n",
       " Food_Name                object\n",
       " Quantity                  int64\n",
       " Expiry_Date      datetime64[ns]\n",
       " Provider_ID               int64\n",
       " Provider_Type            object\n",
       " Location                 object\n",
       " Food_Type                object\n",
       " Meal_Type                object\n",
       " dtype: object)"
      ]
     },
     "execution_count": 33,
     "metadata": {},
     "output_type": "execute_result"
    }
   ],
   "source": [
    "#clean Food Listings\n",
    "# Parse dates\n",
    "if \"Expiry_Date\" in food_listings.columns:\n",
    "    food_listings[\"Expiry_Date\"] = pd.to_datetime(food_listings[\"Expiry_Date\"], errors=\"coerce\")\n",
    "\n",
    "# Quantities to int\n",
    "if \"Quantity\" in food_listings.columns:\n",
    "    food_listings[\"Quantity\"] = (\n",
    "        pd.to_numeric(food_listings[\"Quantity\"], errors=\"coerce\")\n",
    "        .fillna(0)\n",
    "        .astype(int)\n",
    "    )\n",
    "\n",
    "# De-duplicate by Food_ID\n",
    "if \"Food_ID\" in food_listings.columns:\n",
    "    food_listings = food_listings.drop_duplicates(subset=\"Food_ID\")\n",
    "\n",
    "food_listings = food_listings.applymap(lambda x: x.strip() if isinstance(x, str) else x)\n",
    "\n",
    "food_listings.head(), food_listings.dtypes\n"
   ]
  },
  {
   "cell_type": "code",
   "execution_count": 34,
   "id": "86f952b1",
   "metadata": {},
   "outputs": [
    {
     "name": "stderr",
     "output_type": "stream",
     "text": [
      "C:\\Users\\Admin\\AppData\\Local\\Temp\\ipykernel_16988\\2253673431.py:8: FutureWarning: DataFrame.applymap has been deprecated. Use DataFrame.map instead.\n",
      "  claims = claims.applymap(lambda x: x.strip() if isinstance(x, str) else x)\n"
     ]
    },
    {
     "data": {
      "text/plain": [
       "(   Claim_ID  Food_ID  Receiver_ID     Status           Timestamp\n",
       " 0         1      164          908    Pending 2025-03-05 05:26:00\n",
       " 1         2      353          391  Cancelled 2025-03-11 10:24:00\n",
       " 2         3      626          492  Completed 2025-03-21 00:59:00\n",
       " 3         4       61          933  Cancelled 2025-03-04 09:08:00\n",
       " 4         5      345          229    Pending 2025-03-14 15:17:00,\n",
       " Claim_ID                int64\n",
       " Food_ID                 int64\n",
       " Receiver_ID             int64\n",
       " Status                 object\n",
       " Timestamp      datetime64[ns]\n",
       " dtype: object)"
      ]
     },
     "execution_count": 34,
     "metadata": {},
     "output_type": "execute_result"
    }
   ],
   "source": [
    "#clean Claims\n",
    "if \"Timestamp\" in claims.columns:\n",
    "    claims[\"Timestamp\"] = pd.to_datetime(claims[\"Timestamp\"], errors=\"coerce\")\n",
    "\n",
    "if \"Claim_ID\" in claims.columns:\n",
    "    claims = claims.drop_duplicates(subset=\"Claim_ID\")\n",
    "\n",
    "claims = claims.applymap(lambda x: x.strip() if isinstance(x, str) else x)\n",
    "\n",
    "claims.head(), claims.dtypes\n"
   ]
  },
  {
   "cell_type": "code",
   "execution_count": 35,
   "id": "d8991432",
   "metadata": {},
   "outputs": [
    {
     "name": "stdout",
     "output_type": "stream",
     "text": [
      "\n",
      " Cleaning complete! Clean files saved in /data:\n",
      "- providers_clean.csv\n",
      "- receivers_clean.csv\n",
      "- food_listings_clean.csv\n",
      "- claims_clean.csv\n"
     ]
    }
   ],
   "source": [
    "#save cleaned CSVs\n",
    "providers.to_csv(CLEAN_DATA_DIR / \"providers_clean.csv\", index=False)\n",
    "receivers.to_csv(CLEAN_DATA_DIR / \"receivers_clean.csv\", index=False)\n",
    "food_listings.to_csv(CLEAN_DATA_DIR / \"food_listings_clean.csv\", index=False)\n",
    "claims.to_csv(CLEAN_DATA_DIR / \"claims_clean.csv\", index=False)\n",
    "\n",
    "print(\"\\n Cleaning complete! Clean files saved in /data:\")\n",
    "for f in [\"providers_clean.csv\",\"receivers_clean.csv\",\"food_listings_clean.csv\",\"claims_clean.csv\"]:\n",
    "    print(\"-\", f)"
   ]
  }
 ],
 "metadata": {
  "kernelspec": {
   "display_name": ".venv",
   "language": "python",
   "name": "python3"
  },
  "language_info": {
   "codemirror_mode": {
    "name": "ipython",
    "version": 3
   },
   "file_extension": ".py",
   "mimetype": "text/x-python",
   "name": "python",
   "nbconvert_exporter": "python",
   "pygments_lexer": "ipython3",
   "version": "3.12.5"
  }
 },
 "nbformat": 4,
 "nbformat_minor": 5
}
